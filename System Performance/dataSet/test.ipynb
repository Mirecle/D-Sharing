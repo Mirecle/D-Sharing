{
 "cells": [
  {
   "cell_type": "code",
   "execution_count": 1,
   "metadata": {},
   "outputs": [
    {
     "name": "stdout",
     "output_type": "stream",
     "text": [
      "读取文件D:\\app\\SynologyDrive\\文档\\第三篇论文\\Transparent-Kites\\System Performance\\dataSet\\process_tree_20231117045930成功\n",
      "all operation is done, analyze start\n"
     ]
    }
   ],
   "source": [
    "import os\n",
    "import sys\n",
    "import pickle\n",
    "import random\n",
    "import gc\n",
    "import logging\n",
    "import datetime\n",
    "import glob\n",
    "\n",
    "gc.disable()\n",
    "#程序处理部分\n",
    "class Tree:\n",
    "    def __init__(self,user):\n",
    "        self.root=user\n",
    "        self.Maxlength=1\n",
    "        self.MaxlenNode={user}  # 修改为集合\n",
    "        self.nodeNumber=1\n",
    "        self.totalUser={(user,1)}  # 修改为集合\n",
    "        \n",
    "    # 现在不需要isExist方法，因为集合的查找是O(1)复杂度\n",
    "\n",
    "    def addNode(self,user,length):\n",
    "        self.nodeNumber += 1\n",
    "        # 用add代替append添加到集合中\n",
    "        self.totalUser.add((user,length))\n",
    "        if self.Maxlength<length:\n",
    "            self.Maxlength=length\n",
    "            self.MaxlenNode=[user]\n",
    "        elif self.Maxlength==length:\n",
    "            self.MaxlenNode.append(user)\n",
    "current_dir='D:\\\\app\\\\SynologyDrive\\\\文档\\\\第三篇论文\\\\Transparent-Kites\\\\System Performance\\\\dataSet\\\\'\n",
    "\n",
    "\n",
    "# 拼接新的路径\n",
    "def load_latest_data():\n",
    "    all_files = sorted(glob.glob(os.path.join(current_dir, \"process_tree_*\")), \n",
    "                       key=os.path.getmtime, reverse=True)\n",
    "    for file in all_files:\n",
    "        try:\n",
    "            with open(file, 'rb') as f:\n",
    "                trees, edge, users = pickle.load(f)\n",
    "                print(f'读取文件{file}成功')\n",
    "                return trees, edge, users\n",
    "        except EOFError:\n",
    "            continue\n",
    "    return None  # 如果所有文件都无法读取\n",
    "\n",
    "\n",
    "\n",
    "class Tree:\n",
    "    def __init__(self,user):\n",
    "        self.root=user\n",
    "        self.Maxlength=1\n",
    "        self.MaxlenNode={user}  # 修改为集合\n",
    "        self.nodeNumber=1\n",
    "        self.totalUser={(user,1)}  # 修改为集合\n",
    "        \n",
    "    # 现在不需要isExist方法，因为集合的查找是O(1)复杂度\n",
    "\n",
    "    def addNode(self,user,length):\n",
    "        self.nodeNumber += 1\n",
    "        # 用add代替append添加到集合中\n",
    "        self.totalUser.add((user,length))\n",
    "        if self.Maxlength<length:\n",
    "            self.Maxlength=length\n",
    "            self.MaxlenNode=[user]\n",
    "        elif self.Maxlength==length:\n",
    "            self.MaxlenNode.append(user)\n",
    "class User:\n",
    "    def __init__(self, id):\n",
    "        self.id = id\n",
    "        self.received_emails_from = []\n",
    "\n",
    "    def add_sender(self, sender):\n",
    "        self.received_emails_from.append(sender)\n",
    "\n",
    "    def __repr__(self):\n",
    "        return f\"User({self.id})\"\n",
    "\n",
    "\n",
    "# 用于存储用户ID和用户对象的字典\n",
    "\n",
    "users = {}\n",
    "edge=set()\n",
    "trees=[]\n",
    "zero_sub=[]\n",
    "def generate_filename(base_name):\n",
    "    timestamp = datetime.datetime.now().strftime(\"%Y%m%d%H%M%S\")\n",
    "    return f\"{base_name}_{timestamp}\"\n",
    "\n",
    "def save_data(trees, edge, users):\n",
    "    sys.setrecursionlimit(10000) \n",
    "    filename = generate_filename(\"process_tree\")\n",
    "    with open(os.path.join(current_dir, filename), 'wb') as f:\n",
    "        pickle.dump((trees, edge, users), f)\n",
    "\n",
    "    # 保留最近10个文件\n",
    "    all_files = sorted(glob.glob(os.path.join(current_dir, \"process_tree_*\")), \n",
    "                       key=os.path.getmtime, reverse=True)\n",
    "    for old_file in all_files[10:]:\n",
    "        os.remove(old_file)\n",
    "# def data_to_file(trees,edge,users):\n",
    "#     with open(current_dir+'\\\\process_tree', 'wb') as f:\n",
    "\n",
    "#         sys.setrecursionlimit(1000000) \n",
    "#         pickle.dump(trees,edge,users, f)\n",
    "\n",
    "# 从文件中加载session对象\n",
    "def load_tree_from_file():\n",
    "    with open(current_dir+'\\\\process_tree', 'rb') as f:\n",
    "        trees,edge,users = pickle.load(f)\n",
    "    return trees\n",
    "\n",
    "def add_email(from_id, to_id):\n",
    "    # 检查发件人和收件人是否已经存在于字典中\n",
    "    if from_id not in users:\n",
    "        users[from_id] = User(from_id)\n",
    "    if to_id not in users:\n",
    "        users[to_id] = User(to_id)\n",
    "\n",
    "    # 将收件人添加到发件人的列表中\n",
    "    users[from_id].add_sender(users[to_id])\n",
    "    edge.add((users[from_id],users[to_id]))\n",
    "# 读取数据集文件并处理每一行\n",
    "\n",
    "\n",
    "def rebuild(tree):\n",
    "    for i,length in tree.totalUser:\n",
    "        tree.totalUser.discard((i,length))\n",
    "        tree.totalUser.add((users[i.id],length))\n",
    "    tree.totalUser.discard((tree.root,1))\n",
    "    tree.totalUser.add((None,tree.root,len(users[tree.root.id].received_emails_from),1))\n",
    "    current_nodes=[(None,tree.root,1)]\n",
    "    # for length in range(tree.Maxlength):\n",
    "    while len(current_nodes)!=0:\n",
    "        pre_node,node,length=current_nodes[0]\n",
    "        subNum=0\n",
    "        for i in users[node.id].received_emails_from:\n",
    "            if (i,length+1) in tree.totalUser:\n",
    "                tree.totalUser.discard((i,length+1))\n",
    "                tree.totalUser.add((node,i,length+1))\n",
    "                current_nodes.append((node,i,length+1))\n",
    "                subNum+=1\n",
    "        tree.totalUser.discard((pre_node,node,length))\n",
    "        tree.totalUser.add((pre_node,node,subNum,length))\n",
    "        current_nodes.remove((pre_node,node,length))\n",
    "trees,edge,_=load_latest_data() \n",
    "\n",
    "\n",
    "\n",
    "print('all operation is done, analyze start')\n",
    "    "
   ]
  },
  {
   "cell_type": "code",
   "execution_count": 2,
   "metadata": {},
   "outputs": [
    {
     "name": "stdout",
     "output_type": "stream",
     "text": [
      "266662\n"
     ]
    }
   ],
   "source": [
    "print(len(trees))"
   ]
  },
  {
   "cell_type": "code",
   "execution_count": 4,
   "metadata": {},
   "outputs": [
    {
     "name": "stdout",
     "output_type": "stream",
     "text": [
      "{0: 468120, 1: 182952, 15: 447, 10: 599, 6: 1192, 14: 467, 19: 439, 4: 2805, 9: 731, 12: 515, 11: 585, 2: 15881, 3: 5288, 8: 809, 20: 422, 16: 481, 18: 399, 13: 468, 17: 455, 7: 938, 5: 1733}\n",
      "[468120, 182952, 15881, 5288, 2805, 1733, 1192, 938, 809, 731]\n"
     ]
    }
   ],
   "source": [
    "subnodeNumber={}\n",
    "totalnode=0\n",
    "for i in trees:\n",
    "\n",
    "    for j in i.totalUser:\n",
    "        _,_,num,_=j\n",
    "        totalnode+=1\n",
    "        if num not in subnodeNumber:\n",
    "            subnodeNumber[num]=1\n",
    "        else:\n",
    "            subnodeNumber[num]+=1\n",
    "a=[]\n",
    "print(subnodeNumber)\n",
    "for i in range (10):\n",
    "    a.append(subnodeNumber[i])\n",
    "print(a)"
   ]
  },
  {
   "cell_type": "code",
   "execution_count": 5,
   "metadata": {},
   "outputs": [
    {
     "name": "stdout",
     "output_type": "stream",
     "text": [
      "685726\n"
     ]
    }
   ],
   "source": [
    "import math\n",
    "print(totalnode)\n",
    "x=totalnode\n",
    "p=1/x\n",
    "H_x = -x * p * math.log2(p)"
   ]
  },
  {
   "cell_type": "code",
   "execution_count": 6,
   "metadata": {},
   "outputs": [
    {
     "data": {
      "text/plain": [
       "19.38727269893013"
      ]
     },
     "execution_count": 6,
     "metadata": {},
     "output_type": "execute_result"
    },
    {
     "ename": "",
     "evalue": "",
     "output_type": "error",
     "traceback": [
      "\u001b[1;31m在当前单元格或上一个单元格中执行代码时 Kernel 崩溃。请查看单元格中的代码，以确定故障的可能原因。有关详细信息，请单击 <a href='https://aka.ms/vscodeJupyterKernelCrash'>此处</a>。有关更多详细信息，请查看 Jupyter <a href='command:jupyter.viewOutput'>log</a>。"
     ]
    }
   ],
   "source": [
    "H_x"
   ]
  },
  {
   "cell_type": "code",
   "execution_count": 63,
   "metadata": {},
   "outputs": [
    {
     "name": "stdout",
     "output_type": "stream",
     "text": [
      "[18.8365, 17.4811, 13.955, 12.3685, 11.4538, 10.7591, 10.2192, 9.8734, 9.66, 9.5137]\n"
     ]
    }
   ],
   "source": [
    "import math\n",
    "lists=[]\n",
    "for i in range(10):\n",
    "\n",
    "    x=subnodeNumber[i]\n",
    "    p=1/x\n",
    "    H_x = -x * p * math.log2(p)\n",
    "    \n",
    "    lists.append(float(format(H_x, '.4f')))\n",
    "print(lists)"
   ]
  },
  {
   "cell_type": "code",
   "execution_count": 43,
   "metadata": {},
   "outputs": [
    {
     "name": "stdout",
     "output_type": "stream",
     "text": [
      "{(12, 8397): 1, (14, 7208): 1, (11, 7099): 1, (13, 5885): 1, (11, 5413): 1, (11, 4996): 1, (2, 2): 244709, (3, 3): 342, (12, 4388): 1, (10, 4190): 1, (9, 3668): 1, (10, 3391): 1, (9, 3129): 1, (10, 2934): 1, (2, 3): 12316, (10, 2611): 1, (9, 2401): 1, (11, 2278): 1, (8, 2167): 1, (11, 1994): 1, (10, 1875): 1, (9, 1800): 1, (9, 1434): 1, (9, 1436): 1, (10, 1363): 1, (10, 1189): 1, (8, 1177): 1, (12, 1195): 1, (12, 1080): 1, (10, 998): 1, (12, 1016): 1, (11, 873): 1, (9, 855): 1, (10, 829): 1, (12, 780): 1, (10, 683): 1, (10, 743): 1, (11, 553): 1, (10, 584): 1, (12, 607): 1, (13, 615): 1, (12, 510): 1, (12, 523): 1, (12, 539): 1, (3, 8): 63, (10, 452): 1, (10, 359): 1, (9, 308): 1, (12, 423): 1, (13, 426): 1, (12, 459): 1, (12, 307): 1, (12, 390): 1, (13, 355): 1, (11, 306): 1, (13, 344): 1, (13, 287): 1, (12, 319): 1, (10, 178): 1, (10, 186): 1, (6, 7): 1, (11, 280): 1, (10, 190): 1, (15, 284): 1, (13, 227): 1, (12, 298): 1, (9, 159): 1, (9, 93): 2, (9, 127): 1, (7, 15): 1, (8, 98): 1, (14, 206): 1, (11, 126): 1, (6, 36): 3, (9, 89): 1, (8, 100): 1, (8, 81): 1, (5, 18): 3, (3, 4): 221, (6, 93): 1, (7, 44): 1, (5, 10): 1, (4, 31): 7, (3, 5): 150, (4, 4): 15, (6, 22): 2, (4, 8): 11, (4, 6): 14, (7, 18): 1, (7, 38): 1, (7, 75): 1, (4, 10): 16, (4, 21): 7, (4, 5): 10, (8, 15): 1, (4, 7): 13, (3, 7): 98, (4, 14): 7, (7, 81): 1, (4, 34): 3, (3, 10): 36, (3, 6): 113, (4, 17): 2, (5, 62): 1, (4, 13): 6, (4, 18): 9, (4, 9): 12, (5, 51): 1, (4, 11): 8, (4, 22): 2, (4, 12): 6, (4, 30): 5, (4, 15): 9, (4, 33): 2, (4, 23): 7, (4, 49): 1, (3, 13): 30, (4, 16): 6, (2, 4): 3471, (5, 26): 2, (4, 60): 1, (3, 14): 24, (7, 94): 1, (4, 35): 5, (6, 40): 1, (4, 46): 1, (4, 24): 6, (9, 80): 1, (6, 66): 1, (6, 64): 1, (5, 30): 1, (6, 74): 1, (5, 50): 1, (3, 15): 22, (3, 36): 2, (5, 11): 1, (3, 12): 35, (5, 34): 3, (3, 11): 42, (4, 39): 1, (4, 44): 1, (3, 17): 18, (5, 56): 2, (5, 61): 1, (6, 42): 1, (3, 9): 48, (4, 40): 2, (4, 47): 1, (3, 16): 18, (4, 36): 2, (3, 19): 18, (4, 28): 4, (4, 32): 6, (5, 63): 1, (4, 20): 8, (5, 45): 2, (4, 43): 1, (6, 72): 1, (2, 18): 43, (2, 7): 481, (4, 54): 1, (8, 52): 1, (2, 5): 1561, (2, 8): 337, (3, 28): 5, (4, 38): 5, (2, 10): 200, (2, 6): 796, (3, 27): 3, (3, 34): 3, (4, 27): 3, (4, 25): 4, (2, 17): 58, (3, 26): 9, (5, 29): 1, (6, 57): 1, (3, 22): 23, (6, 65): 1, (5, 20): 1, (3, 32): 3, (5, 53): 1, (5, 25): 1, (5, 33): 1, (3, 18): 16, (5, 36): 1, (5, 32): 1, (5, 19): 3, (3, 21): 12, (3, 23): 22, (4, 19): 7, (5, 14): 1, (5, 16): 1, (3, 30): 4, (3, 31): 4, (2, 11): 139, (5, 54): 1, (2, 9): 237, (2, 21): 41, (6, 52): 1, (2, 19): 36, (5, 49): 1, (6, 56): 1, (2, 13): 84, (2, 14): 69, (3, 24): 7, (6, 32): 1, (3, 35): 3, (3, 20): 15, (5, 37): 1, (3, 25): 4, (2, 16): 61, (2, 15): 67, (2, 12): 106, (5, 23): 1, (5, 42): 1, (5, 31): 1, (6, 24): 1, (2, 20): 44, (6, 79): 1, (3, 39): 2, (4, 41): 1, (3, 33): 1, (4, 29): 1, (4, 26): 2, (4, 37): 1, (4, 48): 1, (5, 9): 1, (6, 51): 1, (3, 29): 2, (4, 64): 1, (5, 46): 1, (4, 57): 1, (4, 45): 1}\n"
     ]
    }
   ],
   "source": [
    "tree_sample={}\n",
    "for i in trees:\n",
    "    if (i.Maxlength,i.nodeNumber) not in tree_sample:\n",
    "        tree_sample[(i.Maxlength,i.nodeNumber)]=1\n",
    "    else:\n",
    "        tree_sample[(i.Maxlength,i.nodeNumber)]+=1\n",
    "print(tree_sample)"
   ]
  },
  {
   "cell_type": "code",
   "execution_count": 44,
   "metadata": {},
   "outputs": [
    {
     "name": "stdout",
     "output_type": "stream",
     "text": [
      "{1: 136, 244709: 1, 342: 1, 12316: 1, 63: 1, 2: 14, 3: 10, 221: 1, 7: 6, 150: 1, 15: 2, 11: 1, 14: 1, 16: 2, 10: 1, 13: 1, 98: 1, 36: 2, 113: 1, 6: 5, 9: 3, 12: 2, 8: 2, 5: 4, 30: 1, 3471: 1, 24: 1, 22: 2, 35: 1, 42: 1, 18: 3, 48: 1, 4: 5, 43: 1, 481: 1, 1561: 1, 337: 1, 200: 1, 796: 1, 58: 1, 23: 1, 139: 1, 237: 1, 41: 1, 84: 1, 69: 1, 61: 1, 67: 1, 106: 1, 44: 1}\n"
     ]
    }
   ],
   "source": [
    "number_tree={}\n",
    "\n",
    "for i in tree_sample:\n",
    "    if tree_sample[i] not in number_tree:\n",
    "        number_tree[tree_sample[i]]=1\n",
    "    else:\n",
    "        number_tree[tree_sample[i]]+=1\n",
    "\n",
    "\n",
    "\n",
    "print(number_tree)\n",
    "\n"
   ]
  },
  {
   "cell_type": "code",
   "execution_count": 61,
   "metadata": {},
   "outputs": [
    {
     "name": "stdout",
     "output_type": "stream",
     "text": [
      "[1, 2, 3, 4, 5, 6, 7, 8, 9, 10, 11, 12, 13, 14, 15, 16, 18, 22, 23, 24, 30, 35, 36, 41, 42, 43, 44, 48, 58, 61, 63, 67, 69, 84, 98, 106, 113, 139, 150, 200, 221, 237, 337, 342, 481, 796, 1561, 3471, 12316, 244709]\n",
      "{'-0.00': 136, '1.00': 28, '1.58': 30, '2.00': 20, '2.32': 20, '2.58': 30, '2.81': 42, '3.00': 16, '3.17': 27, '3.32': 10, '3.46': 11, '3.58': 24, '3.70': 13, '3.81': 14, '3.91': 30, '4.00': 32, '4.17': 54, '4.46': 44, '4.52': 23, '4.58': 24, '4.91': 30, '5.13': 35, '5.17': 72, '5.36': 41, '5.39': 42, '5.43': 43, '5.46': 44, '5.58': 48, '5.86': 58, '5.93': 61, '5.98': 63, '6.07': 67, '6.11': 69, '6.39': 84, '6.61': 98, '6.73': 106, '6.82': 113, '7.12': 139, '7.23': 150, '7.64': 200, '7.79': 221, '7.89': 237, '8.40': 337, '8.42': 342, '8.91': 481, '9.64': 796, '10.61': 1561, '11.76': 3471, '13.59': 12316, '17.90': 244709}\n"
     ]
    }
   ],
   "source": [
    "H_list={}\n",
    "print(sorted(number_tree))\n",
    "for j in sorted(number_tree):\n",
    "\n",
    "    x=j\n",
    "    p=1/x\n",
    "    H_x = -x * p * math.log2(p)\n",
    "    \n",
    "    H_list[\"{:.2f}\".format(H_x)]=number_tree[j]*j\n",
    "print(H_list)"
   ]
  },
  {
   "cell_type": "code",
   "execution_count": 60,
   "metadata": {},
   "outputs": [
    {
     "name": "stdout",
     "output_type": "stream",
     "text": [
      "(4, 8)\n"
     ]
    }
   ],
   "source": [
    "for i in tree_sample:\n",
    "    if tree_sample[i]==11:\n",
    "        print(i)"
   ]
  },
  {
   "cell_type": "code",
   "execution_count": null,
   "metadata": {},
   "outputs": [],
   "source": [
    "# Adjusting the plot according to the new specifications\n",
    "fig, ax1 = plt.subplots(figsize=(10, 6))\n",
    "\n",
    "# Adjusting the bar widths and positions\n",
    "bar_width = 0.4\n",
    "entropy_bar_positions = [x - bar_width/2 for x in num_of_children]\n",
    "node_count_bar_positions = [x + bar_width/2 for x in num_of_children]\n",
    "\n",
    "# Creating the bars for entropy values\n",
    "ax1.bar(entropy_bar_positions, entropy_list, color='green', width=bar_width, label='Information Entropy')\n",
    "\n",
    "# Setting labels for entropy bars\n",
    "for i, v in enumerate(entropy_list):\n",
    "    ax1.text(entropy_bar_positions[i], v + 0.3, str(v), ha='center', color='green')\n",
    "\n",
    "# Setting the labels and titles for the first y-axis\n",
    "ax1.set_xlabel('Number of Child Nodes', fontname='Times New Roman', fontsize=18)\n",
    "ax1.set_ylabel('Information Entropy', fontname='Times New Roman', fontsize=18)\n",
    "\n",
    "# Creating the second y-axis for node counts\n",
    "ax2 = ax1.twinx()\n",
    "# Plotting the node count on a logarithmic scale\n",
    "ax2.bar(node_count_bar_positions, num_list, color='blue', width=bar_width, label='Number of Nodes', log=True)\n",
    "\n",
    "# Setting the labels for node count bars\n",
    "for i, v in enumerate(num_list):\n",
    "    if v > 0:  # Check to make sure we don't try to log 0\n",
    "        ax2.text(node_count_bar_positions[i], v, str(v), ha='center', color='blue')\n",
    "\n",
    "ax2.set_ylabel('Number of Nodes (log scale)', fontname='Times New Roman', fontsize=18)\n",
    "\n",
    "# Setting the grid\n",
    "ax1.grid(color='lightgrey', linestyle='--', zorder=0)\n",
    "\n",
    "# Setting the x-ticks to have a spacing of 1\n",
    "ax1.set_xticks(num_of_children)\n",
    "\n",
    "# Show the plot with the legend\n",
    "ax1.legend(loc='upper left')\n",
    "ax2.legend(loc='upper right')\n",
    "plt.show()\n"
   ]
  }
 ],
 "metadata": {
  "kernelspec": {
   "display_name": "Python 3",
   "language": "python",
   "name": "python3"
  },
  "language_info": {
   "codemirror_mode": {
    "name": "ipython",
    "version": 3
   },
   "file_extension": ".py",
   "mimetype": "text/x-python",
   "name": "python",
   "nbconvert_exporter": "python",
   "pygments_lexer": "ipython3",
   "version": "3.8.10"
  }
 },
 "nbformat": 4,
 "nbformat_minor": 2
}
